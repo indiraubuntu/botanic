{
 "cells": [
  {
   "cell_type": "code",
   "execution_count": 6,
   "id": "75e999d9-2f76-49d0-aae6-635c09546c4a",
   "metadata": {},
   "outputs": [
    {
     "name": "stdout",
     "output_type": "stream",
     "text": [
      "b'{\"prediction\":\"virginica\",\"probability\":0.88}'\n"
     ]
    }
   ],
   "source": [
    "import requests \n",
    "\n",
    "new_measurement = {\n",
    "    'sepal_length': 5.7,\n",
    "    'sepal_width': 3.1,\n",
    "    'petal_length': 4.9,\n",
    "    'petal_width': 2.2\n",
    "}\n",
    "\n",
    "response = requests.post('http://127.0.0.1:8000/predict', json=new_measurement)\n",
    "print(response.content)"
   ]
  },
  {
   "cell_type": "code",
   "execution_count": 7,
   "id": "224d790e-735a-4468-ba41-b751706df0b8",
   "metadata": {},
   "outputs": [
    {
     "data": {
      "text/plain": [
       "'The resource you are looking for has been removed, had its name changed, or is temporarily unavailable.'"
      ]
     },
     "execution_count": 7,
     "metadata": {},
     "output_type": "execute_result"
    }
   ],
   "source": [
    "import requests\n",
    "\n",
    "\n",
    "url = 'https://yourwebappname.azurewebsites.net/predict'\n",
    "headers = {\n",
    "   'accept': 'application/json',\n",
    "   'Content-Type': 'application/json',\n",
    "}\n",
    "\n",
    "\n",
    "data = '{\"sepal_length\": 6.2,\"sepal_width\": 3.4,\"petal_length\": 5.4,\"petal_width\": 2.3}'\n",
    "response = requests.get(url, headers=headers, data=data)\n",
    "response.text\n"
   ]
  },
  {
   "cell_type": "code",
   "execution_count": null,
   "id": "54271daa-5b52-4573-8f1c-ea38bca3e90f",
   "metadata": {},
   "outputs": [],
   "source": []
  }
 ],
 "metadata": {
  "kernelspec": {
   "display_name": "Python 3 (ipykernel)",
   "language": "python",
   "name": "python3"
  },
  "language_info": {
   "codemirror_mode": {
    "name": "ipython",
    "version": 3
   },
   "file_extension": ".py",
   "mimetype": "text/x-python",
   "name": "python",
   "nbconvert_exporter": "python",
   "pygments_lexer": "ipython3",
   "version": "3.8.12"
  }
 },
 "nbformat": 4,
 "nbformat_minor": 5
}
